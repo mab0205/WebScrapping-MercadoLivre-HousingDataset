{
 "cells": [
  {
   "cell_type": "code",
   "execution_count": 1,
   "metadata": {},
   "outputs": [],
   "source": [
    "import requests \n",
    "from bs4 import BeautifulSoup\n",
    "from lxml import etree\n",
    "import pandas as pd"
   ]
  },
  {
   "cell_type": "code",
   "execution_count": 2,
   "metadata": {},
   "outputs": [],
   "source": [
    "r = requests.get('https://imoveis.mercadolivre.com.br/apartamentos')"
   ]
  },
  {
   "cell_type": "code",
   "execution_count": 3,
   "metadata": {},
   "outputs": [
    {
     "data": {
      "text/plain": [
       "200"
      ]
     },
     "execution_count": 3,
     "metadata": {},
     "output_type": "execute_result"
    }
   ],
   "source": [
    "r.status_code"
   ]
  },
  {
   "cell_type": "code",
   "execution_count": 4,
   "metadata": {},
   "outputs": [],
   "source": [
    "soup = BeautifulSoup(r.content, 'html.parser')"
   ]
  },
  {
   "cell_type": "code",
   "execution_count": 5,
   "metadata": {},
   "outputs": [],
   "source": [
    "titulos =  soup.find_all('h2',attrs={\"class\":\"ui-search-item__title ui-search-item__group__element shops__items-group-details shops__item-title\"})\n",
    "#//li[@class=\"ui-search-layout__item\"]\n",
    "#//h2[@class=\"ui-search-item__title ui-search-item__group__element shops__items-group-details shops__item-title\"]"
   ]
  },
  {
   "cell_type": "code",
   "execution_count": 6,
   "metadata": {},
   "outputs": [
    {
     "name": "stdout",
     "output_type": "stream",
     "text": [
      "01 Dormitório Canto Do Forte - Vcqt2029\n"
     ]
    }
   ],
   "source": [
    "# altero la lista para borrar el nombre de la clase y unicamente guardar el nombre de cada lista \n",
    "tit = []\n",
    "tit.append([i.text for i in titulos])\n",
    "print(tit[0][0])"
   ]
  },
  {
   "cell_type": "code",
   "execution_count": 7,
   "metadata": {},
   "outputs": [],
   "source": [
    "dom = etree.HTML(str(soup))\n",
    "precios = dom.xpath('//li[@class=\"ui-search-layout__item\"]//div[@class=\"ui-search-result__wrapper shops__result-wrapper\"]//div[@class=\"ui-search-result__content-wrapper shops__result-content-wrapper\"]/div[1]/div//div[@class=\"ui-search-price__second-line shops__price-second-line\"]//span[@class=\"price-tag-amount\"]/span[2]')\n",
    "precios = [i.text for i in precios]"
   ]
  },
  {
   "cell_type": "code",
   "execution_count": 8,
   "metadata": {},
   "outputs": [],
   "source": [
    "df = pd.DataFrame({\"Titulo\":tit[0],\"Precio\":precios})\n",
    "df.to_csv('DataSet-MercadoLivre.csv')\n"
   ]
  }
 ],
 "metadata": {
  "kernelspec": {
   "display_name": "base",
   "language": "python",
   "name": "python3"
  },
  "language_info": {
   "codemirror_mode": {
    "name": "ipython",
    "version": 3
   },
   "file_extension": ".py",
   "mimetype": "text/x-python",
   "name": "python",
   "nbconvert_exporter": "python",
   "pygments_lexer": "ipython3",
   "version": "3.9.12"
  },
  "orig_nbformat": 4,
  "vscode": {
   "interpreter": {
    "hash": "a1d387925892fc7fcb4725e0631a5c5e244fddf1bc8bf25e3f6261922298782b"
   }
  }
 },
 "nbformat": 4,
 "nbformat_minor": 2
}
